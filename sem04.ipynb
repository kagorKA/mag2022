{
 "cells": [
  {
   "cell_type": "markdown",
   "id": "637b87d6",
   "metadata": {},
   "source": [
    "Здравствуйте. У меня часть задач с семинара в прошлую пятницу была решена, так что я направляю те, которые не решила на семинаре"
   ]
  },
  {
   "cell_type": "markdown",
   "id": "8a473a53-bd2d-49da-a88c-e5cddfbaa353",
   "metadata": {},
   "source": [
    "### Циклы"
   ]
  },
  {
   "cell_type": "markdown",
   "id": "d1242ab7-ce8d-46a7-a227-2a48c96efdc1",
   "metadata": {},
   "source": [
    "#### Задача 3.\n",
    "\n",
    "Пользователь вводит какие-то строки, которые наша программа должна приводить в \"заголовочный\" вид: все слова в строке с заглавной буквы. Когда пользователь вводит \"стоп\", программа должна завершить работу, причем ей неважно, в каком регистре введен \"стоп\", хоть заборчиком."
   ]
  },
  {
   "cell_type": "code",
   "execution_count": null,
   "id": "54851be7-edde-4e58-a93b-14d0a52dfce5",
   "metadata": {},
   "outputs": [],
   "source": [
    "c3 = input()\n",
    "while c3:\n",
    "  c3.title()\n",
    "  if c3.title() == \"Стоп\":\n",
    "    break\n",
    "  else:\n",
    "    print(c3.title())\n",
    "    c3 = input()"
   ]
  },
  {
   "cell_type": "markdown",
   "id": "c9c686b3-6bb9-472f-86ce-0d1ce64c44e5",
   "metadata": {},
   "source": [
    "#### Задача 8.\n",
    "\n",
    "Напишем программу для проверки подобранных рифм: пользователь в цикле вводит два слова, программа должна проверить, что у них совпадает не меньше четырех последних букв (будем наивно считать, что все читается, как пишется). Цикл останавливается, если первое из введенных слов не содержит букв. "
   ]
  },
  {
   "cell_type": "code",
   "execution_count": null,
   "id": "2d28031e-227c-4d51-8ee8-405c598514a4",
   "metadata": {},
   "outputs": [],
   "source": [
    "rifma = input()\n",
    "while rifma:\n",
    "  rifma2 = rifma[-1::-1]\n",
    "  if rifma2[0:4] != rifma2[rifma2.find(' ') + 1:rifma2.find(' ') + 5]:\n",
    "    break\n",
    "  else:\n",
    "    print('True')\n",
    "  rifma = input()"
   ]
  },
  {
   "cell_type": "markdown",
   "id": "717cdd60-5b6f-442a-8b94-8273c55b74ae",
   "metadata": {},
   "source": [
    "### Функции"
   ]
  },
  {
   "cell_type": "markdown",
   "id": "65236dec-9345-448b-8d0f-753b9e25f7df",
   "metadata": {},
   "source": [
    "#### Задача 1. \n",
    "\n",
    "Напишите функцию, которая принимает два целых числа a и b и возвращает результат возведения в степень a \\*\\* b, только оператором \\*\\* пользоваться нельзя, нужно сделать это в цикле!"
   ]
  },
  {
   "cell_type": "code",
   "execution_count": null,
   "id": "4996ad6b-242f-4d59-b2dc-7cb4770a0978",
   "metadata": {},
   "outputs": [],
   "source": [
    "def kvadrat(a, b):\n",
    "  n = 1\n",
    "  g = 0\n",
    "  while n <= b:\n",
    "    g += a * a\n",
    "    n += 1\n",
    "  return g"
   ]
  },
  {
   "cell_type": "markdown",
   "id": "8c8327cb-d90a-45ca-ad2f-cb3118ce6942",
   "metadata": {},
   "source": [
    "#### Задача 2. \n",
    "\n",
    "Напишите функцию, которая будет принимать слово и проверять, состоит ли оно только из кириллических букв. Функция должна возвращать объект bool (True/False). "
   ]
  },
  {
   "cell_type": "code",
   "execution_count": null,
   "id": "1ff65ccd-0976-40a2-860c-062e7dab6939",
   "metadata": {},
   "outputs": [],
   "source": [
    "def kiril(slovo):\n",
    "  symbols = 'абвгдеёжзийклмнопрстуфхцчшщъыьэюя'\n",
    "  schet = 0\n",
    "  for i in slovo:\n",
    "    for b in symbols:\n",
    "      if i == b:\n",
    "       schet += 1\n",
    "  return int(schet) == int(len(slovo))"
   ]
  },
  {
   "cell_type": "markdown",
   "id": "48c8d47e-0c5f-4b16-b6f3-848cec743b47",
   "metadata": {},
   "source": [
    "#### Задача 3. \n",
    "\n",
    "Немного расширим задачу 2: пользователь вводит строчку, а потом выбирает, хочет ли он проверить, что она является палиндромом или что она кириллическая. В зависимости от выбора пользователя должна вызываться одна из двух функций. "
   ]
  },
  {
   "cell_type": "code",
   "execution_count": null,
   "id": "4ab6aa9e-8f2a-4654-8962-729a0aa122d4",
   "metadata": {},
   "outputs": [],
   "source": [
    "def palinokirill(palin, kirill):\n",
    "  symbols = 'абвгдеёжзийклмнопрстуфхцчшщъыьэюя'\n",
    "  schet = 0\n",
    "  if kirill == 0:\n",
    "    return palin == palin[::-1]\n",
    "  if palin == 0:\n",
    "    for i in kirill:\n",
    "      for b in symbols:\n",
    "        if i == b:\n",
    "          schet += 1\n",
    "    return int(schet) == int(len(kirill)) "
   ]
  },
  {
   "cell_type": "markdown",
   "id": "8ac5efd5-d195-42fb-bc06-e78002bc1a64",
   "metadata": {},
   "source": [
    "#### Задача 4. \n",
    "\n",
    "Напишите функцию sign, которая принимает целое число и возвращает True, если оно положительное, и False, если оно отрицательное. На 0 можно возвращать NoneType (подумайте, как это сделать?)"
   ]
  },
  {
   "cell_type": "code",
   "execution_count": null,
   "id": "b73628bc-cdcf-4a8b-bb96-898430d7ab04",
   "metadata": {},
   "outputs": [],
   "source": [
    "def sign(j):\n",
    "  l = type(print())\n",
    "  return j > 0 if j != 0 else l"
   ]
  },
  {
   "cell_type": "markdown",
   "id": "f29a8776-2310-4685-995d-bfceaa96d140",
   "metadata": {},
   "source": [
    "#### Задача 5. \n",
    "\n",
    "Напишите функцию, которая делает то же, что функция в задаче 1, но используйте рекурсию. "
   ]
  },
  {
   "cell_type": "code",
   "execution_count": null,
   "id": "ecbcd600-5316-414f-ae30-c64d15719aeb",
   "metadata": {},
   "outputs": [],
   "source": [
    "def kvadratrec(a, b):\n",
    "  if b == 1:\n",
    "    return a\n",
    "  else:\n",
    "    return a * kvadratrec(a, b - 1)"
   ]
  },
  {
   "cell_type": "markdown",
   "id": "929452c8-79f4-4818-88cd-cfc397c219dd",
   "metadata": {},
   "source": [
    "#### Задача 6. \n",
    "\n",
    "Напишите функцию, которая выводит таблицу умножения. Отформатируйте вывод таким образом, чтобы образовалась сеточка из чисел:\n",
    "\n",
    "      1 2 3 4  5\n",
    "    1 1 2 3 4  5\n",
    "    2 2 4 6 8 10\n",
    "    ...\n"
   ]
  },
  {
   "cell_type": "code",
   "execution_count": null,
   "id": "7f5f0d48-247b-4dab-ba52-c0ba22b62f1d",
   "metadata": {},
   "outputs": [],
   "source": [
    "def mnozh():\n",
    "  for i in range(1, 10):\n",
    "    for j in range(1, 10):\n",
    "      print(f'{j * i}', sep='\\n', end='  ' if j * i < 10 else ' ')\n",
    "    print()"
   ]
  },
  {
   "cell_type": "markdown",
   "id": "3dbf1650-4515-48bb-9e28-6f9b480a6c7e",
   "metadata": {},
   "source": [
    "#### Задача 7. \n",
    "\n",
    "Напишите функцию, которая будет принимать числа a и b, делить их и выводить ответ в формате a + b = c, при этом число c должно быть округлено до двух знаков после запятой. Если знаете варианты, как это можно сделать, напишите варианты. "
   ]
  },
  {
   "cell_type": "code",
   "execution_count": null,
   "id": "99d28cfb-5c49-41a2-8226-a337a5aad6ee",
   "metadata": {},
   "outputs": [],
   "source": [
    "def delit(a, b):\n",
    "  return f'{a} / {b} = {round(a / b, 2)}'"
   ]
  }
 ],
 "metadata": {
  "kernelspec": {
   "display_name": "Python 3 (ipykernel)",
   "language": "python",
   "name": "python3"
  },
  "language_info": {
   "codemirror_mode": {
    "name": "ipython",
    "version": 3
   },
   "file_extension": ".py",
   "mimetype": "text/x-python",
   "name": "python",
   "nbconvert_exporter": "python",
   "pygments_lexer": "ipython3",
   "version": "3.9.12"
  }
 },
 "nbformat": 4,
 "nbformat_minor": 5
}
